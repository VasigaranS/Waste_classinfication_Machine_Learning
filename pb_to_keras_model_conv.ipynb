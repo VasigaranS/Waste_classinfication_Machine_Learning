{
 "cells": [
  {
   "cell_type": "code",
   "execution_count": 1,
   "id": "de21f87c-be2f-4af5-829e-00561b3b2144",
   "metadata": {},
   "outputs": [],
   "source": [
    "import os\n",
    "import tensorflow as tf\n",
    "from tensorflow.keras.preprocessing import image"
   ]
  },
  {
   "cell_type": "code",
   "execution_count": 4,
   "id": "8c2bcea1-9717-4252-b7b9-fd9848aa8da8",
   "metadata": {},
   "outputs": [],
   "source": [
    "pb_model_dir = \"./models/2\"\n",
    "h5_model = \"./saved_model.h5\"\n"
   ]
  },
  {
   "cell_type": "code",
   "execution_count": 5,
   "id": "a95291a1-e1d4-4fa1-a795-4a494867effb",
   "metadata": {},
   "outputs": [
    {
     "name": "stdout",
     "output_type": "stream",
     "text": [
      "Model: \"sequential_17\"\n",
      "_________________________________________________________________\n",
      " Layer (type)                Output Shape              Param #   \n",
      "=================================================================\n",
      " sequential_14 (Sequential)  (None, 75, 75, 3)         0         \n",
      "                                                                 \n",
      " sequential_15 (Sequential)  (None, 75, 75, 3)         0         \n",
      "                                                                 \n",
      " conv2d_46 (Conv2D)          (None, 73, 73, 32)        896       \n",
      "                                                                 \n",
      " max_pooling2d_46 (MaxPoolin  (None, 36, 36, 32)       0         \n",
      " g2D)                                                            \n",
      "                                                                 \n",
      " conv2d_47 (Conv2D)          (None, 34, 34, 64)        18496     \n",
      "                                                                 \n",
      " max_pooling2d_47 (MaxPoolin  (None, 17, 17, 64)       0         \n",
      " g2D)                                                            \n",
      "                                                                 \n",
      " conv2d_48 (Conv2D)          (None, 15, 15, 64)        36928     \n",
      "                                                                 \n",
      " max_pooling2d_48 (MaxPoolin  (None, 7, 7, 64)         0         \n",
      " g2D)                                                            \n",
      "                                                                 \n",
      " conv2d_49 (Conv2D)          (None, 5, 5, 64)          36928     \n",
      "                                                                 \n",
      " max_pooling2d_49 (MaxPoolin  (None, 2, 2, 64)         0         \n",
      " g2D)                                                            \n",
      "                                                                 \n",
      " flatten_10 (Flatten)        (None, 256)               0         \n",
      "                                                                 \n",
      " dense_20 (Dense)            (None, 64)                16448     \n",
      "                                                                 \n",
      " dense_21 (Dense)            (None, 2)                 130       \n",
      "                                                                 \n",
      "=================================================================\n",
      "Total params: 109,826\n",
      "Trainable params: 109,826\n",
      "Non-trainable params: 0\n",
      "_________________________________________________________________\n",
      "None\n",
      "Model: \"sequential_17\"\n",
      "_________________________________________________________________\n",
      " Layer (type)                Output Shape              Param #   \n",
      "=================================================================\n",
      " sequential_14 (Sequential)  (None, 75, 75, 3)         0         \n",
      "                                                                 \n",
      " sequential_15 (Sequential)  (None, 75, 75, 3)         0         \n",
      "                                                                 \n",
      " conv2d_46 (Conv2D)          (None, 73, 73, 32)        896       \n",
      "                                                                 \n",
      " max_pooling2d_46 (MaxPoolin  (None, 36, 36, 32)       0         \n",
      " g2D)                                                            \n",
      "                                                                 \n",
      " conv2d_47 (Conv2D)          (None, 34, 34, 64)        18496     \n",
      "                                                                 \n",
      " max_pooling2d_47 (MaxPoolin  (None, 17, 17, 64)       0         \n",
      " g2D)                                                            \n",
      "                                                                 \n",
      " conv2d_48 (Conv2D)          (None, 15, 15, 64)        36928     \n",
      "                                                                 \n",
      " max_pooling2d_48 (MaxPoolin  (None, 7, 7, 64)         0         \n",
      " g2D)                                                            \n",
      "                                                                 \n",
      " conv2d_49 (Conv2D)          (None, 5, 5, 64)          36928     \n",
      "                                                                 \n",
      " max_pooling2d_49 (MaxPoolin  (None, 2, 2, 64)         0         \n",
      " g2D)                                                            \n",
      "                                                                 \n",
      " flatten_10 (Flatten)        (None, 256)               0         \n",
      "                                                                 \n",
      " dense_20 (Dense)            (None, 64)                16448     \n",
      "                                                                 \n",
      " dense_21 (Dense)            (None, 2)                 130       \n",
      "                                                                 \n",
      "=================================================================\n",
      "Total params: 109,826\n",
      "Trainable params: 109,826\n",
      "Non-trainable params: 0\n",
      "_________________________________________________________________\n",
      "None\n"
     ]
    }
   ],
   "source": [
    "\n",
    "# Loading the Tensorflow Saved Model (PB)\n",
    "model = tf.keras.models.load_model(pb_model_dir)\n",
    "print(model.summary())\n",
    "\n",
    "# Saving the Model in H5 Format\n",
    "tf.keras.models.save_model(model, h5_model)\n",
    "\n",
    "# Loading the H5 Saved Model\n",
    "loaded_model_from_h5 = tf.keras.models.load_model(h5_model)\n",
    "print(loaded_model_from_h5.summary())"
   ]
  },
  {
   "cell_type": "code",
   "execution_count": null,
   "id": "767b5aeb-75be-48fa-983d-ccaf6d25f5c5",
   "metadata": {},
   "outputs": [],
   "source": []
  }
 ],
 "metadata": {
  "kernelspec": {
   "display_name": "Python 3 (ipykernel)",
   "language": "python",
   "name": "python3"
  },
  "language_info": {
   "codemirror_mode": {
    "name": "ipython",
    "version": 3
   },
   "file_extension": ".py",
   "mimetype": "text/x-python",
   "name": "python",
   "nbconvert_exporter": "python",
   "pygments_lexer": "ipython3",
   "version": "3.8.8"
  }
 },
 "nbformat": 4,
 "nbformat_minor": 5
}
